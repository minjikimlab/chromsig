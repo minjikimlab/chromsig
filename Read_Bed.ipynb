{
 "cells": [
  {
   "cell_type": "code",
   "execution_count": null,
   "id": "551c45c4-398c-4c1f-b9d3-de554169e61e",
   "metadata": {},
   "outputs": [],
   "source": [
    "import os"
   ]
  },
  {
   "cell_type": "code",
   "execution_count": null,
   "id": "9a641e21-d535-4b28-9e3e-248dd1460b4a",
   "metadata": {},
   "outputs": [],
   "source": [
    "if __name__ == '__main__':\n",
    "    argv = os.environ.get('NB_ARGS')\n",
    "    argv = argv.split(\" \")\n",
    "    ### Set parameters ###\n",
    "    directory = argv[0] ## Directory of bed + sizes files ##\n",
    "    bed_file = argv[1] ## Name of the bed file ##\n",
    "    size_file = argv[2] ## Name of the reference file ##\n",
    "\n",
    "    std_bed_file = bed_file.split(\".\")[0] + \".std.bed\"\n",
    "\n",
    "    if os.path.exists(directory + std_bed_file) == False:\n",
    "        chrom_lst = []\n",
    "        with open(directory + size_file, \"r\") as file:\n",
    "            for line in file:\n",
    "                chrom_lst.append(line.split(\"\\t\")[0])\n",
    "        with open(directory + std_bed_file, \"x\") as dest, open(directory + bed_file, \"r\") as source:\n",
    "            for line in source:\n",
    "                if line.split(\"\\t\")[0] in chrom_lst:\n",
    "                    dest.write(line)"
   ]
  }
 ],
 "metadata": {
  "kernelspec": {
   "display_name": "Python 3 (ipykernel)",
   "language": "python",
   "name": "python3"
  },
  "language_info": {
   "codemirror_mode": {
    "name": "ipython",
    "version": 3
   },
   "file_extension": ".py",
   "mimetype": "text/x-python",
   "name": "python",
   "nbconvert_exporter": "python",
   "pygments_lexer": "ipython3",
   "version": "3.13.3"
  }
 },
 "nbformat": 4,
 "nbformat_minor": 5
}
